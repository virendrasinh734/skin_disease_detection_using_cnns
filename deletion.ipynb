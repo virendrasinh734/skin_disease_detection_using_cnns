{
 "cells": [
  {
   "cell_type": "code",
   "execution_count": null,
   "metadata": {},
   "outputs": [],
   "source": [
    "import os\n",
    "import shutil\n",
    "\n",
    "input_dir = \"path/to/your/folders\"\n",
    "\n",
    "max_images_per_folder = 3500\n",
    "\n",
    "for folder_name in os.listdir(input_dir):\n",
    "    folder_path = os.path.join(input_dir, folder_name)\n",
    "    \n",
    "    if os.path.isdir(folder_path):\n",
    "        num_images = len([f for f in os.listdir(folder_path) if f.endswith('.jpg') or f.endswith('.png')])\n",
    "        \n",
    "        if num_images > max_images_per_folder:\n",
    "            print(f\"Folder '{folder_name}' has {num_images} images, exceeding the limit of {max_images_per_folder}. Removing excess images...\")\n",
    "            \n",
    "            files = sorted(os.listdir(folder_path), key=lambda x: os.path.getmtime(os.path.join(folder_path, x)))\n",
    "            \n",
    "            \n",
    "            for i in range(num_images - max_images_per_folder):\n",
    "                file_to_remove = os.path.join(folder_path, files[i])\n",
    "                os.remove(file_to_remove)\n",
    "            \n",
    "            print(f\"Excess images removed from folder '{folder_name}'.\")\n",
    "        else:\n",
    "            print(f\"Folder '{folder_name}' has {num_images} images. No action needed.\")\n"
   ]
  }
 ],
 "metadata": {
  "language_info": {
   "name": "python"
  }
 },
 "nbformat": 4,
 "nbformat_minor": 2
}
