{
 "cells": [
  {
   "cell_type": "code",
   "execution_count": null,
   "metadata": {},
   "outputs": [],
   "source": [
    "import os\n",
    "import shutil\n",
    "import random\n",
    "\n",
    "original_dataset_dir = \"isic_gallery\"\n",
    "\n",
    "base_dir = \"./\"\n",
    "train_dir = os.path.join(base_dir, \"train\")\n",
    "validation_dir = os.path.join(base_dir, \"validation\")\n",
    "\n",
    "\n",
    "os.makedirs(train_dir, exist_ok=True)\n",
    "os.makedirs(validation_dir, exist_ok=True)\n",
    "\n",
    "\n",
    "train_ratio = 0.8  \n",
    "\n",
    "class_folders = os.listdir(original_dataset_dir)\n",
    "\n",
    "for folder in class_folders:\n",
    "    class_images = os.listdir(os.path.join(original_dataset_dir, folder))\n",
    "    random.shuffle(class_images)  \n",
    "\n",
    "\n",
    "    num_train_images = int(len(class_images) * train_ratio)\n",
    "    train_images = class_images[:num_train_images]\n",
    "    validation_images = class_images[num_train_images:]\n",
    "\n",
    "    os.makedirs(os.path.join(train_dir, folder), exist_ok=True)\n",
    "    os.makedirs(os.path.join(validation_dir, folder), exist_ok=True)\n",
    "\n",
    "    for image in train_images:\n",
    "        src = os.path.join(original_dataset_dir, folder, image)\n",
    "        dst = os.path.join(train_dir, folder, image)\n",
    "        shutil.copyfile(src, dst)\n",
    "\n",
    "    for image in validation_images:\n",
    "        src = os.path.join(original_dataset_dir, folder, image)\n",
    "        dst = os.path.join(validation_dir, folder, image)\n",
    "        shutil.copyfile(src, dst)\n"
   ]
  }
 ],
 "metadata": {
  "language_info": {
   "name": "python"
  }
 },
 "nbformat": 4,
 "nbformat_minor": 2
}
